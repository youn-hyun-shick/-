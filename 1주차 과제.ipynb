{
  "nbformat": 4,
  "nbformat_minor": 0,
  "metadata": {
    "colab": {
      "name": "Untitled1.ipynb",
      "provenance": [],
      "authorship_tag": "ABX9TyOXoPpOlQkuB5KbfLZM7/OL",
      "include_colab_link": true
    },
    "kernelspec": {
      "name": "python3",
      "display_name": "Python 3"
    }
  },
  "cells": [
    {
      "cell_type": "markdown",
      "metadata": {
        "id": "view-in-github",
        "colab_type": "text"
      },
      "source": [
        "<a href=\"https://colab.research.google.com/github/youn-hyun-shick/-/blob/master/1%EC%A3%BC%EC%B0%A8%20%EA%B3%BC%EC%A0%9C.ipynb\" target=\"_parent\"><img src=\"https://colab.research.google.com/assets/colab-badge.svg\" alt=\"Open In Colab\"/></a>"
      ]
    },
    {
      "cell_type": "markdown",
      "metadata": {
        "id": "gDenNnvJedOA",
        "colab_type": "text"
      },
      "source": [
        "인간과 인공지능 간의 인터페이스를 하는 것을 인공지능 비서라고 생각한다. \n",
        "음성 부분에서 일상에서 쉽게 볼 수 있는 대표적인 것 중 하나가 ‘siri'라고 생각한다. \n",
        "언어 부분에서는 시각장애와 사지마비 장애를 가지고 있는 ‘다니엘’은 장애를 가지고 있음에도 인공지능을 이용해 다른 사람과의 소통을 하는 것이 있다고 생각한다.\n",
        "이미지 부분에서는 사람이 디자인 할 때 지식과 장비를 이용하여 한 가지 디자인을 만들어 내지만, 인공지능을 이용하면 여러 가지 디자인 중, 인간이 필요하다고 생각하는 한 가지 디자인을 고를 수 있을 것이다.\n",
        "자율주행분야에서는 자율주행 자동차를 예로 들 수 있다. 하지만 최근에는 스스로 이동하는 로봇과 에너지, 환경 등 연관된 범위가 확장되고 있다. 통신기술의 발전을 통한 연결성으로 차체의 인지 범위가 확장되어 위험 순간을 사전에 대비할 수 있고, 자동화 기능은 인공지능기술의 융합으로 고도화된 운전자의 두뇌를 모방하는 SW와 반도체, 시스템의 저전력 저발열 기술개발 등 지속적인 기술적 향상이 진행되고 있다.\n"
      ]
    }
  ]
}